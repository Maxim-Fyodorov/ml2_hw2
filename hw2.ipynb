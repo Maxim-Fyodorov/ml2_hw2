{
 "cells": [
  {
   "cell_type": "markdown",
   "metadata": {
    "id": "RYp0bXOFK-hP"
   },
   "source": [
    "# Машинное обучение, ФКН ВШЭ\n",
    "\n",
    "## Практическое задание 8. Метод опорных векторов и аппроксимация ядер\n",
    "\n",
    "### Общая информация\n",
    "Дата выдачи: 1.10.2021\n",
    "\n",
    "Мягкий дедлайн: 17.10.2021 23:59 МСК\n",
    "\n",
    "Жесткий дедлайн: 24.10.2021 23:59 МСК (1 неделя -- минус балл)\n",
    "\n",
    "### Оценивание и штрафы\n",
    "Каждая из задач имеет определенную «стоимость» (указана в скобках около задачи). Максимальная оценка за работу (без учёта бонусов) — 10 баллов.\n",
    "\n",
    "Сдавать задание после указанного жёсткого срока сдачи нельзя. При выставлении неполного балла за задание в связи с наличием ошибок на усмотрение проверяющего предусмотрена возможность исправить работу на указанных в ответном письме условиях.\n",
    "\n",
    "Задание выполняется самостоятельно. «Похожие» решения считаются плагиатом и все задействованные студенты (в том числе те, у кого списали) не могут получить за него больше 0 баллов (подробнее о плагиате см. на странице курса). Если вы нашли решение какого-то из заданий (или его часть) в открытом источнике, необходимо указать ссылку на этот источник в отдельном блоке в конце вашей работы (скорее всего вы будете не единственным, кто это нашел, поэтому чтобы исключить подозрение в плагиате, необходима ссылка на источник).\n",
    "\n",
    "Неэффективная реализация кода может негативно отразиться на оценке.\n",
    "\n",
    "### Формат сдачи\n",
    "Загрузите решение в свой репозиторий на github и поделитесь [ссылкой на решение в форме](https://forms.gle/ZzCaqRj6bmfpSpyL7). Не забудьте дать доступ к Вашему репозиторию, что у преподавателей была возмоожность проверить работу."
   ]
  },
  {
   "cell_type": "markdown",
   "metadata": {
    "id": "vY8vT0W_K-hR"
   },
   "source": [
    "### О задании\n",
    "\n",
    "На занятиях мы подробно обсуждали метод опорных векторов (SVM). В базовой версии в нём нет чего-то особенного — мы всего лишь используем специальную функцию потерь, которая не требует устремлять отступы к бесконечности; ей достаточно, чтобы отступы были не меньше +1. Затем мы узнали, что SVM можно переписать в двойственном виде, который, позволяет заменить скалярные произведения объектов на ядра. Это будет соответствовать построению модели в новом пространстве более высокой размерности, координаты которого представляют собой нелинейные модификации исходных признаков.\n",
    "\n",
    "Ядровой SVM, к сожалению, довольно затратен по памяти (нужно хранить матрицу Грама размера $d \\times d$) и по времени (нужно решать задачу условной оптимизации с квадратичной функцией, а это не очень быстро). Мы обсуждали, что есть способы посчитать новые признаки $\\tilde \\varphi(x)$ на основе исходных так, что скалярные произведения этих новых $\\langle \\tilde \\varphi(x), \\tilde \\varphi(z) \\rangle$ приближают ядро $K(x, z)$.\n",
    "\n",
    "Мы будем исследовать аппроксимации методом Random Fourier Features (RFF, также в литературе встречается название Random Kitchen Sinks) для гауссовых ядер. Будем использовать формулы, которые немного отличаются от того, что было на лекциях (мы добавим сдвиги внутрь тригонометрических функций и будем использовать только косинусы, потому что с нужным сдвигом косинус превратится в синус):\n",
    "$$\\tilde \\varphi(x) = (\n",
    "\\cos (w_1^T x + b_1),\n",
    "\\dots,\n",
    "\\cos (w_n^T x + b_n)\n",
    "),$$\n",
    "где $w_j \\sim \\mathcal{N}(0, 1/\\sigma^2)$, $b_j \\sim U[-\\pi, \\pi]$.\n",
    "\n",
    "На новых признаках $\\tilde \\varphi(x)$ мы будем строить любую линейную модель.\n",
    "\n",
    "Можно считать, что это некоторая новая парадигма построения сложных моделей. Можно направленно искать сложные нелинейные закономерности в данных с помощью градиентного бустинга или нейронных сетей, а можно просто нагенерировать большое количество случайных нелинейных признаков и надеяться, что быстрая и простая модель (то есть линейная) сможет показать на них хорошее качество. В этом задании мы изучим, насколько работоспособна такая идея.\n",
    "\n",
    "### Алгоритм\n",
    "\n",
    "Вам потребуется реализовать следующий алгоритм:\n",
    "1. Понизить размерность выборки до new_dim с помощью метода главных компонент.\n",
    "2. Для полученной выборки оценить гиперпараметр $\\sigma^2$ с помощью эвристики (рекомендуем считать медиану не по всем парам объектов, а по случайному подмножеству из где-то миллиона пар объектов): $$\\sigma^2 = \\text{median}_{i, j = 1, \\dots, \\ell, i \\neq j} \\left\\{\\sum_{k = 1}^{d} (x_{ik} - x_{jk})^2 \\right\\}$$\n",
    "3. Сгенерировать n_features наборов весов $w_j$ и сдвигов $b_j$.\n",
    "4. Сформировать n_features новых признаков по формулам, приведённым выше.\n",
    "5. Обучить линейную модель (логистическую регрессию или SVM) на новых признаках.\n",
    "6. Повторить преобразования (PCA, формирование новых признаков) к тестовой выборке и применить модель."
   ]
  },
  {
   "cell_type": "markdown",
   "metadata": {
    "id": "N_sGunb7K-hS"
   },
   "source": [
    "Тестировать алгоритм мы будем на данных Fashion MNIST. Ниже код для их загрузки и подготовки."
   ]
  },
  {
   "cell_type": "code",
   "execution_count": 8,
   "metadata": {
    "id": "YyG6dBfjK-hS"
   },
   "outputs": [],
   "source": [
    "import keras\n",
    "from keras.datasets import fashion_mnist\n",
    "(x_train_pics, y_train), (x_test_pics, y_test) = fashion_mnist.load_data()\n",
    "x_train = x_train_pics.reshape(x_train_pics.shape[0], -1)\n",
    "x_test = x_test_pics.reshape(x_test_pics.shape[0], -1)"
   ]
  },
  {
   "cell_type": "markdown",
   "metadata": {
    "id": "rJNN55F7K-hT"
   },
   "source": [
    "__Задание 1. (5 баллов)__\n",
    "\n",
    "Реализуйте алгоритм, описанный выше. Можете воспользоваться шаблоном класса ниже или написать свой интерфейс.\n",
    "\n",
    "Ваша реализация должна поддерживать следующие опции:\n",
    "1. Возможность задавать значения гиперпараметров new_dim (по умолчанию 50) и n_features (по умолчанию 1000).\n",
    "2. Возможность включать или выключать предварительное понижение размерности с помощью метода главных компонент.\n",
    "3. Возможность выбирать тип линейной модели (логистическая регрессия или SVM с линейным ядром).\n",
    "\n",
    "Протестируйте на данных Fashion MNIST, сформированных кодом выше. Если на тесте у вас получилась доля верных ответов не ниже 0.84 с гиперпараметрами по умолчанию, то вы всё сделали правильно."
   ]
  },
  {
   "cell_type": "code",
   "execution_count": 139,
   "metadata": {
    "id": "jP8yepx8K-hT"
   },
   "outputs": [],
   "source": [
    "from sklearn.base import BaseEstimator, TransformerMixin\n",
    "from sklearn.decomposition import PCA\n",
    "import numpy as np\n",
    "from sklearn.svm import SVC\n",
    "from sklearn.linear_model import LogisticRegression\n",
    "\n",
    "class RFFPipeline(BaseEstimator, TransformerMixin):\n",
    "    def __init__(self, n_features=1000, new_dim=50, use_PCA=True, classifier='logreg'):\n",
    "        \"\"\"        \n",
    "        Implements pipeline, which consists of PCA decomposition,\n",
    "        Random Fourier Features approximation and linear classification model.\n",
    "        \n",
    "        n_features, int: amount of synthetic random features generated with RFF approximation.\n",
    "\n",
    "        new_dim, int: PCA output size.\n",
    "        \n",
    "        use_PCA, bool: whether to include PCA preprocessing.\n",
    "        \n",
    "        classifier, string: either 'svm' or 'logreg', a linear classification model to use on top of pipeline.\n",
    "        \n",
    "        Feel free to edit this template for your preferences.    \n",
    "        \"\"\"\n",
    "        self.n_features = n_features\n",
    "        self.use_PCA = use_PCA\n",
    "        self.new_dim = new_dim\n",
    "        self.classifier = classifier\n",
    "        self.max_sample = 1000000\n",
    "        \n",
    "        if self.use_PCA:\n",
    "            self.PCA = PCA(n_components=self.new_dim)\n",
    "        \n",
    "        if self.classifier == 'svm':\n",
    "            self.classifier_model = SVC(kernel = 'linear', probability=True)\n",
    "        else:\n",
    "            self.classifier_model = LogisticRegression(tol = 1e-3, max_iter=10000) \n",
    "        \n",
    "    def fit(self, X, y):\n",
    "        \"\"\"\n",
    "        Fit all parts of algorithm (PCA, RFF, Classification) to training set.\n",
    "        \"\"\"\n",
    "        if self.use_PCA:\n",
    "            X = self.PCA.fit_transform(X)\n",
    "        \n",
    "        pairs_num = X.shape[0] ** 2  - X.shape[0]\n",
    "        if pairs_num > self.max_sample:\n",
    "            idx = np.random.choice(np.arange(X.shape[0]), size = (self.max_sample, 2))\n",
    "        else:\n",
    "            data_idx = np.arange(X.shape[0])\n",
    "            idx = np.hstack([np.tile(data_idx, X.shape[0]).reshape(-1,1), np.repeat(data_idx,X.shape[0]).reshape(-1,1)])\n",
    "        idx = idx[idx[:, 0] != idx[:, 1]]\n",
    "        selected_X = X[idx]\n",
    "        \n",
    "        var = np.median(((selected_X[:, 0] - selected_X[:, 1]) ** 2).sum(axis = 1))\n",
    "        \n",
    "        self.w = np.random.normal(0, np.sqrt(1/var), size = (self.n_features, X.shape[1]))\n",
    "        self.b = np.random.uniform(-np.pi, np.pi, size = self.n_features)\n",
    "        \n",
    "        X = np.cos((X @ self.w.T) + self.b)\n",
    "        \n",
    "        self.classifier_model.fit(X, y)\n",
    "        \n",
    "        return self\n",
    "    \n",
    "    def transform(self, X):\n",
    "        if self.use_PCA:\n",
    "            X = self.PCA.transform(X)\n",
    "            \n",
    "        X = np.cos((X @ self.w.T) + self.b)\n",
    "        return X\n",
    "\n",
    "    def predict_proba(self, X):\n",
    "        \"\"\"\n",
    "        Apply pipeline to obtain scores for input data.\n",
    "        \"\"\"\n",
    "        return self.classifier_model.predict_proba(self.transform(X))\n",
    "        \n",
    "    def predict(self, X):\n",
    "        \"\"\"\n",
    "        Apply pipeline to obtain discrete predictions for input data.\n",
    "        \"\"\"\n",
    "        return self.classifier_model.predict(self.transform(X))"
   ]
  },
  {
   "cell_type": "markdown",
   "metadata": {
    "id": "HYqQUEi-K-hU"
   },
   "source": [
    "__Задание 2. (3 балла)__\n",
    "\n",
    "Сравните подход со случайными признаками с обучением SVM на исходных признаках. Попробуйте вариант с обычным (линейным) SVM и с ядровым SVM. Ядровой SVM может очень долго обучаться, поэтому можно делать любые разумные вещи для ускорения: брать подмножество объектов из обучающей выборки, например.\n",
    "\n",
    "Сравните подход со случайными признаками с вариантом, в котором вы понижаете размерность с помощью PCA и обучаете градиентный бустинг. Используйте одну из реализаций CatBoost/LightGBM/XGBoost, не забудьте подобрать число деревьев и длину шага.\n",
    "\n",
    "Сделайте выводы — насколько идея со случайными признаками работает? Сравните как с точки зрения качества, так и с точки зрения скорости обучения и применения."
   ]
  },
  {
   "cell_type": "code",
   "execution_count": 9,
   "metadata": {
    "id": "qN8LUlJgK-hV"
   },
   "outputs": [],
   "source": [
    "# качество классификатора буду считать как макро-усреднение ovr roc-auc - как хорошо классификатор разделяет классы\n",
    "from sklearn.metrics import roc_auc_score \n",
    "from time import time\n",
    "from lightgbm import LGBMClassifier\n",
    "from sklearn.model_selection import GridSearchCV"
   ]
  },
  {
   "cell_type": "code",
   "execution_count": 10,
   "metadata": {},
   "outputs": [],
   "source": [
    "# чтобы у всех были равные условия, все алгоритмы будут обучаься на одной и той же подвыборке данных\n",
    "subsample_idx = np.random.randint(low = 0, high = x_train.shape[0], size = int(0.2 * x_train.shape[0]))\n",
    "x_train_subsample, y_train_subsample = x_train[subsample_idx], y_train[subsample_idx]"
   ]
  },
  {
   "cell_type": "markdown",
   "metadata": {},
   "source": [
    "**RFF**"
   ]
  },
  {
   "cell_type": "code",
   "execution_count": 226,
   "metadata": {},
   "outputs": [],
   "source": [
    "rff = RFFPipeline(classifier='svm')\n",
    "start = time()\n",
    "rff.fit(x_train_subsample, y_train_subsample)\n",
    "end = time()\n",
    "rff_train_time = end - start"
   ]
  },
  {
   "cell_type": "code",
   "execution_count": 186,
   "metadata": {},
   "outputs": [],
   "source": [
    "rff = RFFPipeline(classifier='svm')\n",
    "start = time()\n",
    "rff.fit(x_train_subsample, y_train_subsample)\n",
    "end = time()\n",
    "rff_train_time = end - start"
   ]
  },
  {
   "cell_type": "code",
   "execution_count": 187,
   "metadata": {},
   "outputs": [],
   "source": [
    "start = time()\n",
    "rff_pred = rff.predict_proba(x_test)\n",
    "end = time()\n",
    "rff_inference_time = end - start"
   ]
  },
  {
   "cell_type": "code",
   "execution_count": 193,
   "metadata": {},
   "outputs": [
    {
     "name": "stdout",
     "output_type": "stream",
     "text": [
      "SVM with RFF macro ROC-AUC on test sample: 0.9853518666666667\n",
      "SVM with RFF train time: 77.88 seconds\n",
      "SVM with RFF inference time: 20.71 seconds\n"
     ]
    }
   ],
   "source": [
    "print(f\"SVM with RFF macro ROC-AUC on test sample: {roc_auc_score(y_test, rff_pred, multi_class = 'ovr')}\")\n",
    "print(f'SVM with RFF train time: {np.round(rff_train_time, 2)} seconds')\n",
    "print(f'SVM with RFF inference time: {np.round(rff_inference_time, 2)} seconds')"
   ]
  },
  {
   "cell_type": "markdown",
   "metadata": {},
   "source": [
    "**Linear SVM**"
   ]
  },
  {
   "cell_type": "code",
   "execution_count": 157,
   "metadata": {},
   "outputs": [],
   "source": [
    "linear_svm = SVC(kernel = 'linear', probability=True)\n",
    "start = time()\n",
    "linear_svm.fit(x_train_subsample, y_train_subsample)\n",
    "end = time()\n",
    "linear_svm_train_time = end - start"
   ]
  },
  {
   "cell_type": "code",
   "execution_count": 158,
   "metadata": {},
   "outputs": [],
   "source": [
    "start = time()\n",
    "linear_svm_pred = linear_svm.predict_proba(x_test)\n",
    "end = time()\n",
    "linear_svm_inference_time = end - start"
   ]
  },
  {
   "cell_type": "code",
   "execution_count": 179,
   "metadata": {},
   "outputs": [
    {
     "name": "stdout",
     "output_type": "stream",
     "text": [
      "Linear SVM macro ROC-AUC on test sample: 0.9726525777777777\n",
      "Linear SVM train time: 142.3 seconds\n",
      "Linear SVM inference time: 16.42 seconds\n"
     ]
    }
   ],
   "source": [
    "print(f\"Linear SVM macro ROC-AUC on test sample: {roc_auc_score(y_test, linear_svm_pred, multi_class = 'ovr')}\")\n",
    "print(f'Linear SVM train time: {np.round(linear_svm_train_time, 2)} seconds')\n",
    "print(f'Linear SVM inference time: {np.round(linear_svm_inference_time, 2)} seconds')"
   ]
  },
  {
   "cell_type": "markdown",
   "metadata": {},
   "source": [
    "**Kernel SVM**"
   ]
  },
  {
   "cell_type": "code",
   "execution_count": 160,
   "metadata": {},
   "outputs": [],
   "source": [
    "kernel_svm = SVC(probability=True) # по умолчанию rbf-ядро\n",
    "start = time()\n",
    "kernel_svm.fit(x_train_subsample, y_train_subsample)\n",
    "end = time()\n",
    "kernel_svm_train_time = end - start"
   ]
  },
  {
   "cell_type": "code",
   "execution_count": 161,
   "metadata": {},
   "outputs": [],
   "source": [
    "start = time()\n",
    "kernel_svm_pred = kernel_svm.predict_proba(x_test)\n",
    "end = time()\n",
    "kernel_svm_inference_time = end - start"
   ]
  },
  {
   "cell_type": "code",
   "execution_count": 180,
   "metadata": {},
   "outputs": [
    {
     "name": "stdout",
     "output_type": "stream",
     "text": [
      "SVM with RBF kernel macro ROC-AUC on test sample: 0.9869283666666666\n",
      "SVM with RBF kernel train time: 87.29 seconds\n",
      "SVM with RBF kernel inference time: 37.45 seconds\n"
     ]
    }
   ],
   "source": [
    "print(f\"SVM with RBF kernel macro ROC-AUC on test sample: {roc_auc_score(y_test, kernel_svm_pred, multi_class = 'ovr')}\")\n",
    "print(f'SVM with RBF kernel train time: {np.round(kernel_svm_train_time, 2)} seconds')\n",
    "print(f'SVM with RBF kernel inference time: {np.round(kernel_svm_inference_time, 2)} seconds')"
   ]
  },
  {
   "cell_type": "markdown",
   "metadata": {},
   "source": [
    "**PCA + LightGBM**"
   ]
  },
  {
   "cell_type": "code",
   "execution_count": null,
   "metadata": {},
   "outputs": [],
   "source": [
    "lgb_pca = PCA(n_components = 50)\n",
    "lgb_train = lgb_pca.fit_transform(x_train_subsample)\n",
    "lgb_test = lgb_pca.transform(x_test)"
   ]
  },
  {
   "cell_type": "code",
   "execution_count": 172,
   "metadata": {},
   "outputs": [],
   "source": [
    "param_grid = {\n",
    "    'num_iterations': np.geomspace(10, 1000, 3, dtype = int),\n",
    "    'learning_rate': np.geomspace(1e-5, 10, 7)\n",
    "}"
   ]
  },
  {
   "cell_type": "code",
   "execution_count": 173,
   "metadata": {},
   "outputs": [],
   "source": [
    "lgb_gs = GridSearchCV(LGBMClassifier(), param_grid, scoring = 'roc_auc_ovr', n_jobs = -1, verbose = 5)"
   ]
  },
  {
   "cell_type": "code",
   "execution_count": 174,
   "metadata": {},
   "outputs": [
    {
     "name": "stdout",
     "output_type": "stream",
     "text": [
      "Fitting 5 folds for each of 21 candidates, totalling 105 fits\n"
     ]
    },
    {
     "name": "stderr",
     "output_type": "stream",
     "text": [
      "C:\\Users\\MAXIM\\anaconda3\\lib\\site-packages\\lightgbm\\engine.py:177: UserWarning: Found `num_iterations` in params. Will use it instead of argument\n",
      "  _log_warning(f\"Found `{alias}` in params. Will use it instead of argument\")\n"
     ]
    },
    {
     "data": {
      "text/plain": [
       "GridSearchCV(estimator=LGBMClassifier(), n_jobs=-1,\n",
       "             param_grid={'learning_rate': array([1.e-05, 1.e-04, 1.e-03, 1.e-02, 1.e-01, 1.e+00, 1.e+01]),\n",
       "                         'num_iterations': array([  10,  100, 1000])},\n",
       "             scoring='roc_auc_ovr', verbose=5)"
      ]
     },
     "execution_count": 174,
     "metadata": {},
     "output_type": "execute_result"
    }
   ],
   "source": [
    "lgb_gs.fit(lgb_train, y_train_subsample)"
   ]
  },
  {
   "cell_type": "code",
   "execution_count": 176,
   "metadata": {},
   "outputs": [
    {
     "name": "stderr",
     "output_type": "stream",
     "text": [
      "C:\\Users\\MAXIM\\anaconda3\\lib\\site-packages\\lightgbm\\engine.py:177: UserWarning: Found `num_iterations` in params. Will use it instead of argument\n",
      "  _log_warning(f\"Found `{alias}` in params. Will use it instead of argument\")\n"
     ]
    }
   ],
   "source": [
    "lgb = LGBMClassifier(**lgb_gs.best_params_, n_jobs = 1) # для чистоты эксперимента пусть считается на одном ядре\n",
    "start = time()\n",
    "lgb.fit(lgb_train, y_train_subsample)\n",
    "end = time()\n",
    "lgb_train_time = end - start"
   ]
  },
  {
   "cell_type": "code",
   "execution_count": 177,
   "metadata": {},
   "outputs": [],
   "source": [
    "start = time()\n",
    "lgb_pred = lgb.predict_proba(lgb_test)\n",
    "end = time()\n",
    "lgb_inference_time = end - start"
   ]
  },
  {
   "cell_type": "code",
   "execution_count": 181,
   "metadata": {},
   "outputs": [
    {
     "name": "stdout",
     "output_type": "stream",
     "text": [
      "LightGBM with PCA macro ROC-AUC on test sample: 0.9854452444444444\n",
      "LightGBM with PCA train time: 39.71 seconds\n",
      "LightGBM with PCA inference time: 9.8 seconds\n"
     ]
    }
   ],
   "source": [
    "print(f\"LightGBM with PCA macro ROC-AUC on test sample: {roc_auc_score(y_test, lgb_pred, multi_class = 'ovr')}\")\n",
    "print(f'LightGBM with PCA train time: {np.round(lgb_train_time, 2)} seconds')\n",
    "print(f'LightGBM with PCA inference time: {np.round(lgb_inference_time, 2)} seconds')"
   ]
  },
  {
   "cell_type": "markdown",
   "metadata": {},
   "source": [
    "**Выводы:** из выводов выше видно, что по ROC-AUC обогнать наш самописный SVM-RFF смог только SVM на RBF-ядре. Ожидаемо, что не у дел остался линейный SVM - всё-таки написанием кода мы хотели аппроксимировать ядро, чтобы получить модель нелинейно зависящую от исходных признаков и надеялись, что с помощью неё поймать нелинейности в функциональной зависимости таргета от данных. Надежды оправдались, RFF выиграл у обычного SVM больше сотой ROC-AUC. Чуть хуже результат показал достаточно глубокий градиентный бустинг - модель сама по себе способная ловить нелинейные зависимости каскадом из решающих деревьев и обладающая низким bias и variance (при грамотном тюнинге гиперпараметров). Тем не менее, она показывает почти такой же результат, как тупая разделяющая поверхность на нелинейных признаках. Ещё один плюс в карму RFF. SVM на RBF ядре выступила чуть лучше. Из лекций мы помним, что RFF аппроксимирует ядра вида $K(x - z)$, RBF-ядро как раз подходит под эту форму, поэтому решено было сравнить с ним. Можно сказать, что мы аппроксимируем какое-то подобное ядро. Ожидаемо, что полноценное ядро смогло обогнать аппроксимацию. Тем не менеее, разница мала, и это можно снова считать плюсом RFF - аппроксимация отрабатывает неплохо.\n",
    "\n",
    "По скорости обучения SVM-RFF смог обогнать все SVM модели, но не смог обогнать бустинг. Опять же, делая аппроксимацию, мы надеемся, что некоторое ядро у нас получится сымитировать быстрее, чем полноценно его посчитать. Этому требованию аппроксимация удовлетворяет. Интересно, что RBF-ядро посчиталось быстрее, чем линейное. Спишу это на разницу в сходимости и выходки оптимизационной библиотеки, стояещей за классом `sklearn.svm.SVC`. Бустинг обогнать не получилось. Скажу, что это как раз одна из причин, почему бустинг так уважаем, особенно использованный LightGBM, в фокусе которого среди прочего как раз быстродействие. Ну и то, что я говнокодер, тоже определённую роль сыграло)\n",
    "\n",
    "Бустинг же в разы обогнал всех по скорости инференса. Из моделей SVM обогнать получилось только SVM-RBF, к богатой нелинейности которого мы как раз пытались приблизиться за более краткое время. Линейный SVM предсказал быстрее, так как ему не нужно считать никаие нелинейности, впрочем, разница с SVM-RFF всего четыре секунды - учитывая разницу в качестве, самописный код достойно отработал.\n",
    "\n",
    "Итого, аппроксимация ядра таким образом, каким мы это проделали здесь, имеет право на жизнь... в мире линейных моделей и sklearn. Соперничать по быстродействию с таким мастодонтами, как LightGBM и другими реализациями бустинга, написанными сообществами крутых программистов, с бэкендом на более низком C++, не вышло. Вынесенный для LightGBM за пределы замеров времени PCA особой роли во временной разнице не играет, так как отрабатывает почти мгновенно. Тем не менее, (1) написанная модель всё ещё проста в реализации, что плюс, (2) она улавливает нелинейный зависимости в данных на уровне 1000-древого LightGBM за какое-то разумное время и (3) бустинг в моей реализации на Python наверняка работал бы дольше), поэтому в принципе подобная парадигма выглядит интересно."
   ]
  },
  {
   "cell_type": "markdown",
   "metadata": {
    "id": "e6umjhWuK-hV"
   },
   "source": [
    "__Задание 3. (2 балла)__\n",
    "\n",
    "Проведите эксперименты:\n",
    "1. Помогает ли предварительное понижение размерности с помощью PCA? \n",
    "2. Как зависит итоговое качество от n_features? Выходит ли оно на плато при росте n_features?\n",
    "3. Важно ли, какую модель обучать — логистическую регрессию или SVM?"
   ]
  },
  {
   "cell_type": "code",
   "execution_count": 167,
   "metadata": {},
   "outputs": [],
   "source": [
    "from tqdm import tqdm\n",
    "import matplotlib.pyplot as plt"
   ]
  },
  {
   "cell_type": "markdown",
   "metadata": {},
   "source": [
    "**Без PCA**"
   ]
  },
  {
   "cell_type": "code",
   "execution_count": 183,
   "metadata": {
    "id": "c2QIHIMbK-hW"
   },
   "outputs": [],
   "source": [
    "no_pca_rff = RFFPipeline(classifier='svm', use_PCA = False)\n",
    "start = time()\n",
    "no_pca_rff.fit(x_train_subsample, y_train_subsample)\n",
    "end = time()\n",
    "no_pca_rff_train_time = end - start"
   ]
  },
  {
   "cell_type": "code",
   "execution_count": 191,
   "metadata": {},
   "outputs": [],
   "source": [
    "start = time()\n",
    "no_pca_rff_pred = no_pca_rff.predict_proba(x_test)\n",
    "end = time()\n",
    "no_pca_rff_inference_time = end - start"
   ]
  },
  {
   "cell_type": "code",
   "execution_count": 192,
   "metadata": {},
   "outputs": [],
   "source": [
    "no_pca_rff_pred_train = no_pca_rff.predict_proba(x_train_subsample)"
   ]
  },
  {
   "cell_type": "code",
   "execution_count": 194,
   "metadata": {},
   "outputs": [
    {
     "name": "stdout",
     "output_type": "stream",
     "text": [
      "SVM with RFF macro ROC-AUC on train sample: 0.7825906959324188\n",
      "SVM with RFF macro ROC-AUC on test sample: 0.503763788888889\n",
      "SVM with RFF train time: 4190.03 seconds\n",
      "SVM with RFF inference time: 62.4 seconds\n"
     ]
    }
   ],
   "source": [
    "print(f\"SVM with RFF macro ROC-AUC on train sample: {roc_auc_score(y_train_subsample, no_pca_rff_pred_train, multi_class='ovr')}\")\n",
    "print(f\"SVM with RFF macro ROC-AUC on test sample: {roc_auc_score(y_test, no_pca_rff_pred, multi_class = 'ovr')}\")\n",
    "print(f'SVM with RFF train time: {np.round(no_pca_rff_train_time, 2)} seconds')\n",
    "print(f'SVM with RFF inference time: {np.round(no_pca_rff_inference_time, 2)} seconds')"
   ]
  },
  {
   "cell_type": "markdown",
   "metadata": {},
   "source": [
    "**Выводы:** без PCA получается хуже во всём - из-за больших размерностей считается очень долго и на обучении, и на инференсе, качество по ROC-AUC существенно упало. Специально вывел здесь результаты на тренировочной подвыборке - видно, что модель переобучилась. PCA обладает способностью выделять наиболее полезную информацию из исходных данных. Без неё вместе с полезной информацией мы взяли ещё и вездесущего шума, и в итоге модель на тренировочной подвыборке этот шум выучила, что ударило по её обобщающей способности. Кроме того, даже не тренировочной подвыборке модель работает хуже, чем все ранее рассмотренные нами на тестовой. Вероятно, большая размерность и шумность выборки усложняет поверхность функционала ошибки и сходимость модели."
   ]
  },
  {
   "cell_type": "markdown",
   "metadata": {},
   "source": [
    "**Зависимость от n_features**"
   ]
  },
  {
   "cell_type": "code",
   "execution_count": 221,
   "metadata": {},
   "outputs": [],
   "source": [
    "n_features_range = np.append(np.arange(10, 110, 10), [500, 1000, 5000])\n",
    "train_times, inference_times, roc_auc_train, roc_auc_test = [], [], [], []"
   ]
  },
  {
   "cell_type": "code",
   "execution_count": 222,
   "metadata": {},
   "outputs": [
    {
     "name": "stderr",
     "output_type": "stream",
     "text": [
      "100%|██████████| 13/13 [16:41<00:00, 77.06s/it] \n"
     ]
    }
   ],
   "source": [
    "for n_features_value in tqdm(n_features_range):\n",
    "    model = RFFPipeline(classifier='svm', n_features=n_features_value)\n",
    "    start = time()\n",
    "    model.fit(x_train_subsample, y_train_subsample)\n",
    "    train_times.append(time() - start)\n",
    "    \n",
    "    start = time()\n",
    "    model_pred = model.predict_proba(x_test)\n",
    "    inference_times.append(time() - start)\n",
    "    \n",
    "    model_pred_train = model.predict_proba(x_train_subsample)\n",
    "    roc_auc_train.append(roc_auc_score(y_train_subsample, model_pred_train, multi_class='ovr'))\n",
    "    roc_auc_test.append(roc_auc_score(y_test, model_pred, multi_class = 'ovr'))"
   ]
  },
  {
   "cell_type": "code",
   "execution_count": 251,
   "metadata": {},
   "outputs": [
    {
     "data": {
      "image/png": "[encoded data removed]",
      "text/plain": [
       "<Figure size 432x288 with 1 Axes>"
      ]
     },
     "metadata": {
      "needs_background": "light"
     },
     "output_type": "display_data"
    }
   ],
   "source": [
    "plt.plot(n_features_range, train_times)\n",
    "plt.title('Время на тренировку RFF в зависимости от числа признаков', y = 1.025)\n",
    "plt.xlabel('Число сгенерированных признаков')\n",
    "plt.ylabel('Время (в сек)')\n",
    "plt.show()"
   ]
  },
  {
   "cell_type": "code",
   "execution_count": 250,
   "metadata": {},
   "outputs": [
    {
     "data": {
      "image/png": "[encoded data removed]",
      "text/plain": [
       "<Figure size 432x288 with 1 Axes>"
      ]
     },
     "metadata": {
      "needs_background": "light"
     },
     "output_type": "display_data"
    }
   ],
   "source": [
    "plt.plot(n_features_range, inference_times)\n",
    "plt.title('Время на инференс RFF в зависимости от числа признаков', y = 1.025)\n",
    "plt.xlabel('Число сгенерированных признаков')\n",
    "plt.ylabel('Время (в сек)')\n",
    "plt.show()"
   ]
  },
  {
   "cell_type": "code",
   "execution_count": 252,
   "metadata": {},
   "outputs": [
    {
     "data": {
      "image/png": "[encoded data removed]",
      "text/plain": [
       "<Figure size 432x288 with 1 Axes>"
      ]
     },
     "metadata": {
      "needs_background": "light"
     },
     "output_type": "display_data"
    }
   ],
   "source": [
    "plt.plot(n_features_range, roc_auc_train, label = 'Train')\n",
    "plt.plot(n_features_range, roc_auc_test, label = 'Test')\n",
    "plt.xscale('log')\n",
    "plt.title('Macro ROC-AUC RFF в зависимости от числа признаков', y = 1.025)\n",
    "plt.xlabel('Число сгенерированных признаков')\n",
    "plt.ylabel('Macro ROC-AUC')\n",
    "plt.legend()\n",
    "plt.show()"
   ]
  },
  {
   "cell_type": "markdown",
   "metadata": {},
   "source": [
    "**Выводы:** относительно времени тренировки и инференса, даже по тем точкам, что были рассмотрены, видно, что присутствует линейная зависимость от числа сгенерированных признаков. Это ожидаемо - на генерацию каждого нового признаки и учёт каждого отдельного признака в расчётах тратится одинаковое количество времени, поэтому при добавлении ещё одного признака увеличение временных затрат константное. На графике ROC-AUC видно, что где-то после 500 признаков тестовая метрика выходит на плато. Тренировочная, впрочем, продолжает насыщаться с новыми случайными признаками и к 5000 доходит до почти идеального значения метрики. Получается:\n",
    "- чем больше усилий мы тратим на аппроксимацию ядра, тем больше модель подгоняется под тренировочные данные\n",
    "- существует некий порог аппроксимации, после которого предсказательная сила модели на неизвестных данных не растёт, то есть модель уже нашла адекватную форму скрытой функциональной зависимости\n",
    "\n",
    "Это имеет смысл для рассматриваемой задачи, но возможно подобный паттерн будет присутствовать и на других данных."
   ]
  },
  {
   "cell_type": "markdown",
   "metadata": {},
   "source": [
    "**Логрег и SVM**"
   ]
  },
  {
   "cell_type": "markdown",
   "metadata": {},
   "source": [
    "Для чистоты эксперимента в классе `RFFPipeline` выше я выставил для `LogisticRegression` параметр `tol` равный 1e-3, как и у используемого класса метода опорных векторов `SVC`, и поднял `max_iter`, чтобы дать регрессии возможность сойтись (у `SVC` число итераций не ограничено)."
   ]
  },
  {
   "cell_type": "code",
   "execution_count": 180,
   "metadata": {},
   "outputs": [],
   "source": [
    "logreg_rff = RFFPipeline(classifier='logreg', n_features = 1000)\n",
    "start = time()\n",
    "logreg_rff.fit(x_train_subsample, y_train_subsample)\n",
    "end = time()\n",
    "logreg_rff_train_time = end - start"
   ]
  },
  {
   "cell_type": "code",
   "execution_count": 181,
   "metadata": {},
   "outputs": [],
   "source": [
    "start = time()\n",
    "logreg_rff_pred = logreg_rff.predict_proba(x_test)\n",
    "end = time()\n",
    "logreg_rff_inference_time = end - start"
   ]
  },
  {
   "cell_type": "code",
   "execution_count": 182,
   "metadata": {},
   "outputs": [],
   "source": [
    "svm_rff = RFFPipeline(classifier='svm', n_features = 1000)\n",
    "start = time()\n",
    "svm_rff.fit(x_train_subsample, y_train_subsample)\n",
    "end = time()\n",
    "svm_rff_train_time = end - start"
   ]
  },
  {
   "cell_type": "code",
   "execution_count": 183,
   "metadata": {},
   "outputs": [],
   "source": [
    "start = time()\n",
    "svm_rff_pred = svm_rff.predict_proba(x_test)\n",
    "end = time()\n",
    "svm_rff_inference_time = end - start"
   ]
  },
  {
   "cell_type": "code",
   "execution_count": 184,
   "metadata": {},
   "outputs": [
    {
     "name": "stdout",
     "output_type": "stream",
     "text": [
      "SVM with RFF macro ROC-AUC on test sample: 0.9860217666666667\n",
      "Logreg with RFF macro ROC-AUC on test sample: 0.9859112444444446\n",
      "\n",
      "SVM with RFF train time: 73.35 seconds\n",
      "Logreg with RFF train time: 165.47 seconds\n",
      "\n",
      "SVM with RFF inference time: 19.1 seconds\n",
      "Logreg with RFF inference time: 0.36 seconds\n"
     ]
    }
   ],
   "source": [
    "print(f\"SVM with RFF macro ROC-AUC on test sample: {roc_auc_score(y_test, svm_rff_pred, multi_class = 'ovr')}\")\n",
    "print(f\"Logreg with RFF macro ROC-AUC on test sample: {roc_auc_score(y_test, logreg_rff_pred, multi_class = 'ovr')}\\n\")\n",
    "\n",
    "print(f'SVM with RFF train time: {np.round(svm_rff_train_time, 2)} seconds')\n",
    "print(f'Logreg with RFF train time: {np.round(logreg_rff_train_time, 2)} seconds\\n')\n",
    "\n",
    "print(f'SVM with RFF inference time: {np.round(svm_rff_inference_time, 2)} seconds')\n",
    "print(f'Logreg with RFF inference time: {np.round(logreg_rff_inference_time, 2)} seconds')"
   ]
  },
  {
   "cell_type": "markdown",
   "metadata": {},
   "source": [
    "**Выводы:** логистческая регрессия обучается дольше SVM и других алгоритмов, рассмотренных выше, но предсказывает в разы быстрее. Стоит заметить, что под капотом этих классов применяются различные оптимизационные библиотеки - это может влиять на разницу в скорости. Качество моделей сравнимое - разница в десятитысячной доле в пользу SVM. По результатам сложно отдать предпочтение какому-либо из алгоритмов. Если модель на практике дополняется данными для обучения не часто, то лучше, чтобы предсказание было быстрым - тогда ваш выбор за логрегом. Если модель чаще доообучается - то рациональным выбором будет SVM."
   ]
  },
  {
   "cell_type": "markdown",
   "metadata": {
    "id": "CJqXVuasK-hW"
   },
   "source": [
    "### Бонус"
   ]
  },
  {
   "cell_type": "markdown",
   "metadata": {
    "id": "QVDWHCdrK-hX"
   },
   "source": [
    "__Задание 4. (Максимум 2 балла)__\n",
    "\n",
    "Как вы, должно быть, помните с курса МО-1, многие алгоритмы машинного обучения работают лучше, если признаки данных некоррелированы. Оказывается, что для RFF существует модификация, позволяющая получать ортогональные случайные признаки (Orthogonal Random Features, ORF). Об этом методе можно прочитать в [статье](https://proceedings.neurips.cc/paper/2016/file/53adaf494dc89ef7196d73636eb2451b-Paper.pdf). Реализуйте класс для вычисления ORF по аналогии с основным заданием. Обратите внимание, что ваш класс должен уметь работать со случаем n_features > new_dim (в статье есть замечание на этот счет). Проведите эксперименты, сравнивающие RFF и ORF, сделайте выводы."
   ]
  },
  {
   "cell_type": "code",
   "execution_count": null,
   "metadata": {},
   "outputs": [],
   "source": [
    "from scipy.stats import chi"
   ]
  },
  {
   "cell_type": "code",
   "execution_count": 159,
   "metadata": {
    "id": "HSxvGI9iK-hX"
   },
   "outputs": [],
   "source": [
    "class ORFPipeline(RFFPipeline):     \n",
    "    def fit(self, X, y):\n",
    "        \"\"\"\n",
    "        Fit all parts of algorithm (PCA, ORF, Classification) to training set.\n",
    "        \"\"\"\n",
    "        if self.use_PCA:\n",
    "            X = self.PCA.fit_transform(X)\n",
    "        \n",
    "        pairs_num = X.shape[0] ** 2  - X.shape[0]\n",
    "        if pairs_num > self.max_sample:\n",
    "            idx = np.random.choice(np.arange(X.shape[0]), size = (self.max_sample, 2))\n",
    "        else:\n",
    "            data_idx = np.arange(X.shape[0])\n",
    "            idx = np.hstack([np.tile(data_idx, X.shape[0]).reshape(-1,1), np.repeat(data_idx,X.shape[0]).reshape(-1,1)])\n",
    "        idx = idx[idx[:, 0] != idx[:, 1]]\n",
    "        selected_X = X[idx]\n",
    "        \n",
    "        var = np.median(((selected_X[:, 0] - selected_X[:, 1]) ** 2).sum(axis = 1))\n",
    "        \n",
    "        n_generations = int(np.ceil(self.n_features / X.shape[1]))\n",
    "        generated_matrices = []\n",
    "        for _ in range(n_generations):\n",
    "            w_rff = np.random.normal(0, 1, size = (X.shape[1], X.shape[1]))\n",
    "            q, _ = np.linalg.qr(w_rff, mode='complete')\n",
    "            s = np.eye(q.shape[0])\n",
    "            s[np.diag_indices_from(s)] = chi.rvs(w_rff.shape[1], size=s.shape[0])\n",
    "            w_orf = s @ q\n",
    "            generated_matrices.append(w_orf)\n",
    "        self.w = np.vstack(generated_matrices)\n",
    "        if self.w.shape[0] > self.n_features:\n",
    "            self.w = self.w[:self.n_features]\n",
    "            \n",
    "        self.w /= np.sqrt(var)\n",
    "        \n",
    "        self.b = np.random.uniform(-np.pi, np.pi, size = self.n_features)\n",
    "        \n",
    "        X = np.cos((X @ self.w.T) + self.b) \n",
    "        \n",
    "        self.classifier_model.fit(X, y)\n",
    "        \n",
    "        return self"
   ]
  },
  {
   "cell_type": "markdown",
   "metadata": {},
   "source": [
    "Повторю некоторые эксперименты из предыдущего пункта."
   ]
  },
  {
   "cell_type": "markdown",
   "metadata": {},
   "source": [
    "**Зависимость от n_features**"
   ]
  },
  {
   "cell_type": "code",
   "execution_count": 165,
   "metadata": {},
   "outputs": [],
   "source": [
    "n_features_range = np.append(np.arange(10, 110, 10), [500, 1000, 5000])\n",
    "train_times, inference_times, roc_auc_train, roc_auc_test = [], [], [], []"
   ]
  },
  {
   "cell_type": "code",
   "execution_count": 168,
   "metadata": {},
   "outputs": [
    {
     "name": "stderr",
     "output_type": "stream",
     "text": [
      "100%|██████████████████████████████████████████████████████████████████████████████████| 13/13 [15:07<00:00, 69.82s/it]\n"
     ]
    }
   ],
   "source": [
    "for n_features_value in tqdm(n_features_range):\n",
    "    model = ORFPipeline(classifier='svm', n_features=n_features_value)\n",
    "    start = time()\n",
    "    model.fit(x_train_subsample, y_train_subsample)\n",
    "    train_times.append(time() - start)\n",
    "    \n",
    "    start = time()\n",
    "    model_pred = model.predict_proba(x_test)\n",
    "    inference_times.append(time() - start)\n",
    "    \n",
    "    model_pred_train = model.predict_proba(x_train_subsample)\n",
    "    roc_auc_train.append(roc_auc_score(y_train_subsample, model_pred_train, multi_class='ovr'))\n",
    "    roc_auc_test.append(roc_auc_score(y_test, model_pred, multi_class = 'ovr'))"
   ]
  },
  {
   "cell_type": "code",
   "execution_count": 169,
   "metadata": {},
   "outputs": [
    {
     "data": {
      "image/png": "[encoded data removed]",
      "text/plain": [
       "<Figure size 432x288 with 1 Axes>"
      ]
     },
     "metadata": {
      "needs_background": "light"
     },
     "output_type": "display_data"
    }
   ],
   "source": [
    "plt.plot(n_features_range, train_times)\n",
    "plt.title('Время на тренировку ORF в зависимости от числа признаков', y = 1.025)\n",
    "plt.xlabel('Число сгенерированных признаков')\n",
    "plt.ylabel('Время (в сек)')\n",
    "plt.show()"
   ]
  },
  {
   "cell_type": "code",
   "execution_count": 170,
   "metadata": {},
   "outputs": [
    {
     "data": {
      "image/png": "[encoded data removed]",
      "text/plain": [
       "<Figure size 432x288 with 1 Axes>"
      ]
     },
     "metadata": {
      "needs_background": "light"
     },
     "output_type": "display_data"
    }
   ],
   "source": [
    "plt.plot(n_features_range, inference_times)\n",
    "plt.title('Время на инференс ORF в зависимости от числа признаков', y = 1.025)\n",
    "plt.xlabel('Число сгенерированных признаков')\n",
    "plt.ylabel('Время (в сек)')\n",
    "plt.show()"
   ]
  },
  {
   "cell_type": "code",
   "execution_count": 171,
   "metadata": {},
   "outputs": [
    {
     "data": {
      "image/png": "[encoded data removed]",
      "text/plain": [
       "<Figure size 432x288 with 1 Axes>"
      ]
     },
     "metadata": {
      "needs_background": "light"
     },
     "output_type": "display_data"
    }
   ],
   "source": [
    "plt.plot(n_features_range, roc_auc_train, label = 'Train')\n",
    "plt.plot(n_features_range, roc_auc_test, label = 'Test')\n",
    "plt.xscale('log')\n",
    "plt.title('Macro ROC-AUC ORF в зависимости от числа признаков', y = 1.025)\n",
    "plt.xlabel('Число сгенерированных признаков')\n",
    "plt.ylabel('Macro ROC-AUC')\n",
    "plt.legend()\n",
    "plt.show()"
   ]
  },
  {
   "cell_type": "markdown",
   "metadata": {},
   "source": [
    "**Выводы:** графики изменились не сильно. Из отличий можно выделить следующее:\n",
    "- значения ROC-AUC для минимального числа сгенерированных признаков выше - порядка 0.945 для трейна и 0.94 для теста против 0.93 и 0.925 у RFF аппорксимации. Выходит, для таких значений параметра ORF аппроксимация работает существенно лучше\n",
    "- разница между результатами на тренировочной и тестовой выборках для ORF больше\n",
    "- наблюдается некоторое снижение тестовой метрики при переходе от 1000 к 5000 сгенерированных признаков\n",
    "\n",
    "Изначальная идея ORF - предоставить алгоритму некореллированные признаки. В парадигме аппроксимации ядер этого добиваются путём QR-разложения случайно сгенерированной матрицы, чтобы получить ортогональные векторы весов. Есть подозрение, что эта \"случайная ортогональность\" в модели может насытиться разными подобными векторами: при большом числе уже сгенерированных признаков сгенерировать ещё некореллированных признаков становится сложно. Новые признаки будут уже не такими крутыми и подпорят результат. А каким образом подпортят? Из МО-1 помним, что скоррелированные признаки сопряжен с понятием переобучения, когда модель подгоняется под тренировочную выборку так сильно, что начинает терять в обобщающей способности и показывать субоптимальный результат на неизвестных данных. По моему предположению, здесь после 1000 признаков происходит как раз это. При это метрика вряд ли опустится ниже, чем у RFF аппроксимации, которая обучалась вообще на любых признаках и не парилась по поводу из скоррелированности."
   ]
  },
  {
   "cell_type": "markdown",
   "metadata": {},
   "source": [
    "**Логрег и SVM**"
   ]
  },
  {
   "cell_type": "code",
   "execution_count": 185,
   "metadata": {},
   "outputs": [],
   "source": [
    "logreg_orf = ORFPipeline(classifier='logreg', n_features = 1000)\n",
    "start = time()\n",
    "logreg_orf.fit(x_train_subsample, y_train_subsample)\n",
    "end = time()\n",
    "logreg_orf_train_time = end - start"
   ]
  },
  {
   "cell_type": "code",
   "execution_count": 186,
   "metadata": {},
   "outputs": [],
   "source": [
    "start = time()\n",
    "logreg_orf_pred = logreg_orf.predict_proba(x_test)\n",
    "end = time()\n",
    "logreg_orf_inference_time = end - start"
   ]
  },
  {
   "cell_type": "code",
   "execution_count": 187,
   "metadata": {},
   "outputs": [],
   "source": [
    "svm_orf = ORFPipeline(classifier='svm', n_features = 1000)\n",
    "start = time()\n",
    "svm_orf.fit(x_train_subsample, y_train_subsample)\n",
    "end = time()\n",
    "svm_orf_train_time = end - start"
   ]
  },
  {
   "cell_type": "code",
   "execution_count": 188,
   "metadata": {},
   "outputs": [],
   "source": [
    "start = time()\n",
    "svm_orf_pred = svm_orf.predict_proba(x_test)\n",
    "end = time()\n",
    "svm_orf_inference_time = end - start"
   ]
  },
  {
   "cell_type": "code",
   "execution_count": 189,
   "metadata": {},
   "outputs": [
    {
     "name": "stdout",
     "output_type": "stream",
     "text": [
      "SVM with RFF macro ROC-AUC on test sample: 0.9862111\n",
      "Logreg with RFF macro ROC-AUC on test sample: 0.9860905777777779\n",
      "\n",
      "SVM with RFF train time: 71.53 seconds\n",
      "Logreg with RFF train time: 177.22 seconds\n",
      "\n",
      "SVM with RFF inference time: 18.85 seconds\n",
      "Logreg with RFF inference time: 0.37 seconds\n"
     ]
    }
   ],
   "source": [
    "print(f\"SVM with ORF macro ROC-AUC on test sample: {roc_auc_score(y_test, svm_orf_pred, multi_class = 'ovr')}\")\n",
    "print(f\"Logreg with ORF macro ROC-AUC on test sample: {roc_auc_score(y_test, logreg_orf_pred, multi_class = 'ovr')}\\n\")\n",
    "\n",
    "print(f'SVM with ORF train time: {np.round(svm_orf_train_time, 2)} seconds')\n",
    "print(f'Logreg with ORF train time: {np.round(logreg_orf_train_time, 2)} seconds\\n')\n",
    "\n",
    "print(f'SVM with ORF inference time: {np.round(svm_orf_inference_time, 2)} seconds')\n",
    "print(f'Logreg with ORF inference time: {np.round(logreg_orf_inference_time, 2)} seconds')"
   ]
  },
  {
   "cell_type": "markdown",
   "metadata": {},
   "source": [
    "**Выводы:** по скорости работы получается почти то же, что и у RFF. В принципе, ожидаемо ведь алгоритмы отличаются только наличием в ORF только циклом генерации случайных матриц. Он как раз и может быть ответственнен за увеличение времени работы. Результаты тоже стали получше - оба классификатора отыграли десятитысячные доли. Отдать предпочтение чему-то опять же сложно. Всё зависит от того, что конкретный специалист будет ставить во главу угла в определённой ситуации - время работы или наилучший возможный результат."
   ]
  },
  {
   "cell_type": "markdown",
   "metadata": {
    "id": "4pc7-1jmK-hY"
   },
   "source": [
    "__Задание 5. (Максимум 2 балла)__\n",
    "\n",
    "Поэкспериментируйте с функциями для вычисления новых случайных признаков. Не обязательно использовать косинус от скалярного произведения — можно брать знак от него, хэш и т.д. Придумайте побольше вариантов для генерации признаков и проверьте, не получается ли с их помощью добиваться более высокого качества. Также можете попробовать другой классификатор поверх случайных признаков, сравните результаты."
   ]
  },
  {
   "cell_type": "code",
   "execution_count": 219,
   "metadata": {
    "id": "dWj-O2vjK-hY"
   },
   "outputs": [],
   "source": [
    "# класс для подстановки генерационных функций\n",
    "class FlexibleRFFPipeline(RFFPipeline):\n",
    "    def __init__(self, n_features=1000, new_dim=50, use_PCA=True, classifier='logreg', gen_func = np.cos):\n",
    "        \"\"\"        \n",
    "        Implements pipeline, which consists of PCA decomposition,\n",
    "        Orthogonal Random Features approximation and linear classification model.\n",
    "        \n",
    "        n_features, int: amount of synthetic random features generated with RFF approximation.\n",
    "\n",
    "        new_dim, int: PCA output size.\n",
    "        \n",
    "        use_PCA, bool: whether to include PCA preprocessing.\n",
    "        \n",
    "        classifier, string: either 'svm' or 'logreg', a linear classification model to use on top of pipeline.\n",
    "        \n",
    "        Feel free to edit this template for your preferences.    \n",
    "        \"\"\"\n",
    "        self.n_features = n_features\n",
    "        self.use_PCA = use_PCA\n",
    "        self.new_dim = new_dim\n",
    "        self.classifier = classifier\n",
    "        self.max_sample = 1000000\n",
    "        self.gen_func = gen_func\n",
    "        \n",
    "        if self.use_PCA:\n",
    "            self.PCA = PCA(n_components=self.new_dim)\n",
    "        \n",
    "        if self.classifier == 'svm':\n",
    "            self.classifier_model = SVC(kernel = 'linear', probability=True)\n",
    "        else:\n",
    "            self.classifier_model = LogisticRegression(tol = 1e-3, max_iter=10000)\n",
    "        \n",
    "    def fit(self, X, y):\n",
    "        \"\"\"\n",
    "        Fit all parts of algorithm (PCA, ORF, Classification) to training set.\n",
    "        \"\"\"\n",
    "        if self.use_PCA:\n",
    "            X = self.PCA.fit_transform(X)\n",
    "        \n",
    "        pairs_num = X.shape[0] ** 2  - X.shape[0]\n",
    "        if pairs_num > self.max_sample:\n",
    "            idx = np.random.choice(np.arange(X.shape[0]), size = (self.max_sample, 2))\n",
    "        else:\n",
    "            data_idx = np.arange(X.shape[0])\n",
    "            idx = np.hstack([np.tile(data_idx, X.shape[0]).reshape(-1,1), np.repeat(data_idx,X.shape[0]).reshape(-1,1)])\n",
    "        idx = idx[idx[:, 0] != idx[:, 1]]\n",
    "        selected_X = X[idx]\n",
    "        \n",
    "        var = np.median(((selected_X[:, 0] - selected_X[:, 1]) ** 2).sum(axis = 1))\n",
    "        \n",
    "        n_generations = int(np.ceil(self.n_features / X.shape[1]))\n",
    "        generated_matrices = []\n",
    "        for _ in range(n_generations):\n",
    "            w_rff = np.random.normal(0, 1, size = (X.shape[1], X.shape[1]))\n",
    "            q, _ = np.linalg.qr(w_rff, mode='complete')\n",
    "            s = np.eye(q.shape[0])\n",
    "            s[np.diag_indices_from(s)] = chi.rvs(w_rff.shape[1], size=s.shape[0])\n",
    "            w_orf = s @ q\n",
    "            generated_matrices.append(w_orf)\n",
    "        self.w = np.vstack(generated_matrices)\n",
    "        if self.w.shape[0] > self.n_features:\n",
    "            self.w = self.w[:self.n_features]\n",
    "            \n",
    "        self.w /= np.sqrt(var)\n",
    "        \n",
    "        self.b = np.random.uniform(-np.pi, np.pi, size = self.n_features)\n",
    "        \n",
    "        X = self.gen_func((X @ self.w.T) + self.b) \n",
    "        \n",
    "        self.classifier_model.fit(X, y)\n",
    "        \n",
    "        return self\n",
    "    \n",
    "    def transform(self, X):\n",
    "        if self.use_PCA:\n",
    "            X = self.PCA.transform(X)\n",
    "            \n",
    "        X = self.gen_func((X @ self.w.T) + self.b)\n",
    "        return X"
   ]
  },
  {
   "cell_type": "markdown",
   "metadata": {},
   "source": [
    "**Знак**"
   ]
  },
  {
   "cell_type": "code",
   "execution_count": 193,
   "metadata": {},
   "outputs": [
    {
     "data": {
      "text/plain": [
       "FlexibleRFFPipeline(gen_func=<ufunc 'sign'>)"
      ]
     },
     "execution_count": 193,
     "metadata": {},
     "output_type": "execute_result"
    }
   ],
   "source": [
    "logreg_sign = FlexibleRFFPipeline(classifier='logreg', n_features = 1000, gen_func=np.sign)\n",
    "logreg_sign.fit(x_train_subsample, y_train_subsample)"
   ]
  },
  {
   "cell_type": "code",
   "execution_count": 194,
   "metadata": {},
   "outputs": [],
   "source": [
    "logreg_sign_pred = logreg_sign.predict_proba(x_test)"
   ]
  },
  {
   "cell_type": "code",
   "execution_count": 195,
   "metadata": {},
   "outputs": [
    {
     "data": {
      "text/plain": [
       "FlexibleRFFPipeline(classifier='svm', gen_func=<ufunc 'sign'>)"
      ]
     },
     "execution_count": 195,
     "metadata": {},
     "output_type": "execute_result"
    }
   ],
   "source": [
    "svm_sign = FlexibleRFFPipeline(classifier='svm', n_features = 1000, gen_func=np.sign)\n",
    "svm_sign.fit(x_train_subsample, y_train_subsample)"
   ]
  },
  {
   "cell_type": "code",
   "execution_count": 196,
   "metadata": {},
   "outputs": [],
   "source": [
    "svm_sign_pred = svm_sign.predict_proba(x_test)"
   ]
  },
  {
   "cell_type": "code",
   "execution_count": 197,
   "metadata": {},
   "outputs": [
    {
     "name": "stdout",
     "output_type": "stream",
     "text": [
      "SVM with RFF macro ROC-AUC on test sample: 0.9756876555555556\n",
      "Logreg with RFF macro ROC-AUC on test sample: 0.9751454555555557\n",
      "\n"
     ]
    }
   ],
   "source": [
    "print(f\"SVM with RFF macro ROC-AUC on test sample: {roc_auc_score(y_test, svm_sign_pred, multi_class = 'ovr')}\")\n",
    "print(f\"Logreg with RFF macro ROC-AUC on test sample: {roc_auc_score(y_test, logreg_sign_pred, multi_class = 'ovr')}\")"
   ]
  },
  {
   "cell_type": "markdown",
   "metadata": {},
   "source": [
    "**Вывод по знаку:** стало хуже, не прямо ужасно, но потеряна сота доля. Знак даёт меньше информации, чем косинус - теряется амплитуда значений. Это и могло стать причиной падаения метрики."
   ]
  }
 ],
 "metadata": {
  "colab": {
   "collapsed_sections": [],
   "name": "homework-practice-08-random-features.ipynb",
   "provenance": []
  },
  "kernelspec": {
   "display_name": "Python 3 (ipykernel)",
   "language": "python",
   "name": "python3"
  },
  "language_info": {
   "codemirror_mode": {
    "name": "ipython",
    "version": 3
   },
   "file_extension": ".py",
   "mimetype": "text/x-python",
   "name": "python",
   "nbconvert_exporter": "python",
   "pygments_lexer": "ipython3",
   "version": "3.9.7"
  }
 },
 "nbformat": 4,
 "nbformat_minor": 1
}
